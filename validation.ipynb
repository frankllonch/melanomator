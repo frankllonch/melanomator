{
 "cells": [
  {
   "cell_type": "code",
   "execution_count": 13,
   "metadata": {},
   "outputs": [
    {
     "name": "stdout",
     "output_type": "stream",
     "text": [
      "Using device: mps\n",
      "Classes: ['benign', 'malignant']\n"
     ]
    },
    {
     "name": "stderr",
     "output_type": "stream",
     "text": [
      "/Users/frankllonch/Desktop/quattroporte/aprendizado de máquina/melanomator/melanoma-env/lib/python3.13/site-packages/torchvision/models/_utils.py:208: UserWarning: The parameter 'pretrained' is deprecated since 0.13 and may be removed in the future, please use 'weights' instead.\n",
      "  warnings.warn(\n",
      "/Users/frankllonch/Desktop/quattroporte/aprendizado de máquina/melanomator/melanoma-env/lib/python3.13/site-packages/torchvision/models/_utils.py:223: UserWarning: Arguments other than a weight enum or `None` for 'weights' are deprecated since 0.13 and may be removed in the future. The current behavior is equivalent to passing `weights=None`.\n",
      "  warnings.warn(msg)\n"
     ]
    },
    {
     "data": {
      "image/png": "[encoded data removed]",
      "text/plain": [
       "<Figure size 600x500 with 2 Axes>"
      ]
     },
     "metadata": {},
     "output_type": "display_data"
    },
    {
     "name": "stdout",
     "output_type": "stream",
     "text": [
      "\n",
      "Classification Report:\n",
      "              precision    recall  f1-score   support\n",
      "\n",
      "      benign       0.99      0.99      0.99      5000\n",
      "   malignant       0.98      0.99      0.99      4605\n",
      "\n",
      "    accuracy                           0.99      9605\n",
      "   macro avg       0.99      0.99      0.99      9605\n",
      "weighted avg       0.99      0.99      0.99      9605\n",
      "\n",
      "\n",
      "✅ Results exported to: /Users/frankllonch/Desktop/quattroporte/aprendizado de máquina/melanomator/results.json\n"
     ]
    }
   ],
   "source": [
    "import torch\n",
    "from torch.utils.data import DataLoader\n",
    "from torchvision import datasets, transforms, models\n",
    "import torch.nn.functional as F\n",
    "import os\n",
    "import json\n",
    "import matplotlib.pyplot as plt\n",
    "import seaborn as sns\n",
    "from sklearn.metrics import confusion_matrix, classification_report\n",
    "\n",
    "# === CONFIG ===\n",
    "VALIDATION_DIR = '/Users/frankllonch/Desktop/quattroporte/aprendizado de máquina/melanomator/data/validation/train'\n",
    "MODEL_PATH = '/Users/frankllonch/Desktop/quattroporte/aprendizado de máquina/melanomator/melanoma_model.pth'\n",
    "BATCH_SIZE = 32\n",
    "DEVICE = torch.device(\"mps\" if torch.backends.mps.is_available() else \"cuda\" if torch.cuda.is_available() else \"cpu\")\n",
    "print(f\"Using device: {DEVICE}\")\n",
    "\n",
    "# === TRANSFORMS ===\n",
    "test_transforms = transforms.Compose([\n",
    "    transforms.Resize((224, 224)),\n",
    "    transforms.ToTensor(),\n",
    "    transforms.Normalize(mean=[0.485, 0.456, 0.406],\n",
    "                         std=[0.229, 0.224, 0.225])\n",
    "])\n",
    "\n",
    "# === LOAD DATA ===\n",
    "test_dataset = datasets.ImageFolder(VALIDATION_DIR, transform=test_transforms)\n",
    "test_loader = DataLoader(test_dataset, batch_size=BATCH_SIZE, shuffle=False)\n",
    "class_names = test_dataset.classes  # ['benign', 'malignant']\n",
    "print(f\"Classes: {class_names}\")\n",
    "\n",
    "# === LOAD MODEL ===\n",
    "model = models.resnet18(pretrained=False)\n",
    "num_features = model.fc.in_features\n",
    "model.fc = torch.nn.Linear(num_features, len(class_names))\n",
    "model.load_state_dict(torch.load(MODEL_PATH, map_location=DEVICE))\n",
    "model.to(DEVICE)\n",
    "model.eval()\n",
    "\n",
    "# === EVALUATION ===\n",
    "all_preds = []\n",
    "all_labels = []\n",
    "all_confs = []\n",
    "all_paths = []\n",
    "\n",
    "with torch.no_grad():\n",
    "    for images, labels in test_loader:\n",
    "        images, labels = images.to(DEVICE), labels.to(DEVICE)\n",
    "        outputs = model(images)\n",
    "        probs = F.softmax(outputs, dim=1)\n",
    "        confs, preds = torch.max(probs, 1)\n",
    "\n",
    "        all_preds.extend(preds.cpu().numpy())\n",
    "        all_labels.extend(labels.cpu().numpy())\n",
    "        all_confs.extend(confs.cpu().numpy())\n",
    "\n",
    "# === CONFUSION MATRIX ===\n",
    "cm = confusion_matrix(all_labels, all_preds)\n",
    "plt.figure(figsize=(6, 5))\n",
    "sns.heatmap(cm, annot=True, fmt='d', cmap='Blues',\n",
    "            xticklabels=class_names, yticklabels=class_names)\n",
    "plt.xlabel('Predicted')\n",
    "plt.ylabel('True')\n",
    "plt.title('Confusion Matrix')\n",
    "plt.show()\n",
    "\n",
    "# === CLASSIFICATION REPORT ===\n",
    "print(\"\\nClassification Report:\")\n",
    "print(classification_report(all_labels, all_preds, target_names=class_names))\n",
    "\n",
    "# === EXPORT RESULTS TO JSON ===\n",
    "results = []\n",
    "for i in range(len(all_preds)):\n",
    "    results.append({\n",
    "        \"true_label\": class_names[all_labels[i]],\n",
    "        \"predicted_label\": class_names[all_preds[i]],\n",
    "        \"confidence\": float(all_confs[i])\n",
    "    })\n",
    "\n",
    "output_path = os.path.join(os.getcwd(), \"results.json\")\n",
    "with open(output_path, \"w\") as f:\n",
    "    json.dump(results, f, indent=4)\n",
    "\n",
    "print(f\"\\n✅ Results exported to: {output_path}\")"
   ]
  },
  {
   "cell_type": "code",
   "execution_count": 7,
   "metadata": {},
   "outputs": [
    {
     "name": "stdout",
     "output_type": "stream",
     "text": [
      "0\n"
     ]
    }
   ],
   "source": [
    "import os\n",
    "\n",
    "train_files = set(os.listdir('data/train/benign')) | set(os.listdir('data/train/malignant'))\n",
    "val_files = set(os.listdir('data/validation/test/benign')) | set(os.listdir('data/validation/test/malignant'))\n",
    "\n",
    "print(len(train_files & val_files))  # should be 0"
   ]
  },
  {
   "cell_type": "code",
   "execution_count": 10,
   "metadata": {},
   "outputs": [
    {
     "name": "stdout",
     "output_type": "stream",
     "text": [
      "Overlap: 0 files\n"
     ]
    }
   ],
   "source": [
    "import os\n",
    "\n",
    "def get_all_filenames(folder):\n",
    "    files = []\n",
    "    for root, _, filenames in os.walk(folder):\n",
    "        for f in filenames:\n",
    "            if f.lower().endswith(('.png', '.jpg', '.jpeg')):\n",
    "                files.append(f)\n",
    "    return set(files)\n",
    "\n",
    "train_files = get_all_filenames('/Users/frankllonch/Desktop/quattroporte/aprendizado de máquina/melanomator/data/train')\n",
    "val_files = get_all_filenames('/Users/frankllonch/Desktop/quattroporte/aprendizado de máquina/melanomator/data/validation/train')\n",
    "\n",
    "overlap = train_files & val_files\n",
    "print(f\"Overlap: {len(overlap)} files\")"
   ]
  }
 ],
 "metadata": {
  "kernelspec": {
   "display_name": "melanoma-env",
   "language": "python",
   "name": "python3"
  },
  "language_info": {
   "codemirror_mode": {
    "name": "ipython",
    "version": 3
   },
   "file_extension": ".py",
   "mimetype": "text/x-python",
   "name": "python",
   "nbconvert_exporter": "python",
   "pygments_lexer": "ipython3",
   "version": "3.13.2"
  }
 },
 "nbformat": 4,
 "nbformat_minor": 2
}
