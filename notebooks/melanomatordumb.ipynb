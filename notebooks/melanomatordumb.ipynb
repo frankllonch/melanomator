{
 "cells": [
  {
   "cell_type": "code",
   "execution_count": 3,
   "metadata": {},
   "outputs": [
    {
     "name": "stdout",
     "output_type": "stream",
     "text": [
      "Outputs shape: torch.Size([32, 2])\n",
      "Labels shape: torch.Size([32])\n",
      "Dumb model test done!\n"
     ]
    }
   ],
   "source": [
    "import torch\n",
    "from torchvision import datasets, transforms\n",
    "from torch.utils.data import DataLoader\n",
    "import torch.nn as nn\n",
    "import torch.optim as optim\n",
    "\n",
    "# 1. Data transforms\n",
    "transform = transforms.Compose([\n",
    "    transforms.Resize((128, 128)),\n",
    "    transforms.ToTensor()\n",
    "])\n",
    "\n",
    "# 2. Load datasets\n",
    "train_data = datasets.ImageFolder('data/train', transform=transform)\n",
    "test_data = datasets.ImageFolder('data/test', transform=transform)\n",
    "\n",
    "train_loader = DataLoader(train_data, batch_size=32, shuffle=True)\n",
    "test_loader = DataLoader(test_data, batch_size=32, shuffle=False)\n",
    "\n",
    "# Dumb model\n",
    "class DumbModel(nn.Module):\n",
    "    def forward(self, x):\n",
    "        return torch.rand(x.size(0), 2)\n",
    "\n",
    "model = DumbModel()\n",
    "\n",
    "# Just run one batch to check shapes\n",
    "for images, labels in train_loader:\n",
    "    outputs = model(images)\n",
    "    print(\"Outputs shape:\", outputs.shape)\n",
    "    print(\"Labels shape:\", labels.shape)\n",
    "    break\n",
    "\n",
    "\n",
    "\n",
    "print(\"Dumb model test done!\")"
   ]
  }
 ],
 "metadata": {
  "kernelspec": {
   "display_name": "melanoma-env",
   "language": "python",
   "name": "python3"
  },
  "language_info": {
   "codemirror_mode": {
    "name": "ipython",
    "version": 3
   },
   "file_extension": ".py",
   "mimetype": "text/x-python",
   "name": "python",
   "nbconvert_exporter": "python",
   "pygments_lexer": "ipython3",
   "version": "3.13.2"
  }
 },
 "nbformat": 4,
 "nbformat_minor": 2
}
